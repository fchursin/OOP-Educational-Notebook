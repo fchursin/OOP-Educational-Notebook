{
 "cells": [
  {
   "cell_type": "markdown",
   "source": [
    "# OOP vol.2\n",
    "©Fedor Chursin\n",
    "e-mail - fedorchursinsk@gmail.com\n",
    "GitHub - ur0vn1t31"
   ],
   "metadata": {
    "collapsed": false
   },
   "id": "e8562223c66bd3d1"
  },
  {
   "cell_type": "markdown",
   "source": [
    "# Welcome back to the OOP codebook! In the previous part you learned about Encapsulation and Inheritance it's time to dive into new two concepts of OOP!"
   ],
   "metadata": {
    "collapsed": false
   },
   "id": "ef58fa09c415ec59"
  },
  {
   "cell_type": "markdown",
   "source": [],
   "metadata": {
    "collapsed": false
   },
   "id": "751ea6f19a2fc0ae"
  },
  {
   "cell_type": "markdown",
   "source": [
    "## 3. Polymorphism\n",
    "\n",
    "Polymorphism, a core element of OOP, allows different classes or objects to be treated interchangeably as if they belong to a shared category. In other words, polymorphism is the ability of objects to take on different forms or behave in different ways depending on the context in which they are used. In object-oriented programming (OOP), polymorphism is achieved through the use of inheritance, interfaces, and method overriding. Let's dive deeper into this topic:"
   ],
   "metadata": {
    "collapsed": false
   },
   "id": "c86ba23ba7b5eb8d"
  },
  {
   "cell_type": "code",
   "execution_count": 1,
   "outputs": [
    {
     "name": "stdout",
     "output_type": "stream",
     "text": [
      "Max speed of this car is 330\n",
      "Max speed of this plane is 988\n",
      "Max speed of this bullet train is 320\n"
     ]
    }
   ],
   "source": [
    "'''\n",
    "    Let's create a parent class Vehicle with a placeholder method 'max_speed':\n",
    "'''\n",
    "\n",
    "# Define a parent class 'Vehicle'\n",
    "class Vehicle:\n",
    "    \n",
    "    # A placeholder method for 'max_speed' to be defined in the subclasses.\n",
    "    def max_speed(self):\n",
    "        pass\n",
    "    \n",
    "'''\n",
    "    Now we will define three different subclasses / types of vehicles:\n",
    "    \n",
    "        - car\n",
    "        - plane\n",
    "        - bullet train\n",
    "'''\n",
    "\n",
    "# Create a subclass 'Car' which inherits from 'Vehicle'.\n",
    "class Car(Vehicle):\n",
    "    \n",
    "    def __init__(self, top_speed):\n",
    "        self.top_speed = top_speed\n",
    "\n",
    "    # Implement the 'max_speed' method specific to 'Car'.\n",
    "    def max_speed(self):\n",
    "        return \"Max speed of this car is \" + str(self.top_speed)\n",
    "\n",
    "# Create a subclass 'Plane' which also inherits from 'Vehicle'.\n",
    "class Plane(Vehicle):\n",
    "    \n",
    "    def __init__(self, top_speed):\n",
    "        self.top_speed = top_speed\n",
    "\n",
    "    # Implement the 'max_speed' method specific to 'Plane'.\n",
    "    def max_speed(self):\n",
    "        return \"Max speed of this plane is \" + str(self.top_speed)\n",
    "\n",
    "# Create another subclass 'BulletTrain' inheriting from 'Vehicle'.\n",
    "class BulletTrain(Vehicle):\n",
    "    \n",
    "    def __init__(self, top_speed):\n",
    "        self.top_speed = top_speed\n",
    "\n",
    "    # Implement the 'max_speed' method specific to 'BulletTrain'.\n",
    "    def max_speed(self):\n",
    "        return \"Max speed of this bullet train is \" + str(self.top_speed)\n",
    "\n",
    "# Create instances of different vehicles with their respective maximum speeds.\n",
    "porsche911 = Car(330)\n",
    "boeing747 = Plane(988)\n",
    "shinkansen = BulletTrain(320)\n",
    "\n",
    "# Create a list of various vehicles for demonstration.\n",
    "vehicles = [porsche911, boeing747, shinkansen]\n",
    "\n",
    "'''\n",
    "    Now let's see what happens if we iterate through the list we just created and call the 'max_speed' method on each element:\n",
    "'''\n",
    "\n",
    "# Demonstrate polymorphism by calling 'max_speed' on each object.\n",
    "for vehicle in vehicles:\n",
    "    print(vehicle.max_speed())\n"
   ],
   "metadata": {
    "collapsed": false,
    "ExecuteTime": {
     "end_time": "2023-10-16T15:51:42.755677Z",
     "start_time": "2023-10-16T15:51:42.750502Z"
    }
   },
   "id": "26c7961264565ef7"
  },
  {
   "cell_type": "markdown",
   "source": [
    "As you can see the appropriate implementation of the method for each specific vehicle type is used. This demonstrates Polymorphism in action. This example refers to the ability of different objects or classes to respond to the same method in a way that is appropriate for each of them. "
   ],
   "metadata": {
    "collapsed": false
   },
   "id": "cff4aaf84061b164"
  },
  {
   "cell_type": "markdown",
   "source": [
    "### With this example you got a better understanding of one of the most important concepts behind the Polymorphism\n",
    "\n",
    "### Polymorphism is a powerful concept in object-oriented programming that enhances code reusability, flexibility, and maintainability, making it a key element in creating scalable and extensible software systems. Let's dive into the last but not  least concept of OOP - Abstraction"
   ],
   "metadata": {
    "collapsed": false
   },
   "id": "26c37ac854605ba9"
  },
  {
   "cell_type": "markdown",
   "source": [
    "## 4. Abstraction\n",
    "Abstraction in object-oriented programming simplifies complex systems by representing real-world objects as classes with only the most important features and actions. Through the process of abstraction, a programmer hides all but the relevant data about an object in order to reduce complexity and increase efficiency. Let's check it out:"
   ],
   "metadata": {
    "collapsed": false
   },
   "id": "27d34da68cadc68b"
  },
  {
   "cell_type": "code",
   "execution_count": 2,
   "outputs": [
    {
     "name": "stdout",
     "output_type": "stream",
     "text": [
      "Circle Area: 78.53750000000001\n",
      "Rectangle Area: 24\n"
     ]
    }
   ],
   "source": [
    "'''\n",
    "    Let's import several modules that are important for the abstraction from the abc library:\n",
    "    \n",
    "    ABC -  The ABC class from the abc module allows us to define abstract classes. By inheriting from ABC, you indicate that a class is meant to be an abstract class.\n",
    "    \n",
    "    abstractmethod - The @abstractmethod decorator is used to declare methods as abstract.\n",
    "    \n",
    "    \n",
    "    !!! Abstract class is a class that cannot be instantiated on its own but serves as a blueprint for other classes.\n",
    "    \n",
    "    !!! Abstract methods are methods declared in an abstract class but have no implementation in the abstract class itself.\n",
    "    \n",
    "'''\n",
    "\n",
    "from abc import ABC, abstractmethod\n",
    "\n",
    "'''\n",
    "    Now we will define an abstract class and several subclasses\n",
    "'''\n",
    "\n",
    "# Define an abstract class representing a general shape\n",
    "class Shape(ABC):\n",
    "    @abstractmethod # declare method as abstract\n",
    "    def area(self):\n",
    "        pass\n",
    "\n",
    "# Create concrete subclasses that implement the abstract method\n",
    "class Circle(Shape):\n",
    "    def __init__(self, radius):\n",
    "        self.radius = radius\n",
    "\n",
    "    def area(self):\n",
    "        return 3.1415 * self.radius * self.radius\n",
    "\n",
    "class Rectangle(Shape):\n",
    "    def __init__(self, width, height):\n",
    "        self.width = width\n",
    "        self.height = height\n",
    "\n",
    "    def area(self):\n",
    "        return self.width * self.height\n",
    "\n",
    "'''\n",
    "    Now we will initialise several objects and demonstrate abstraction\n",
    "'''\n",
    "\n",
    "\n",
    "circle = Circle(5)\n",
    "rectangle = Rectangle(4, 6)\n",
    "\n",
    "print(f\"Circle Area: {circle.area()}\")\n",
    "print(f\"Rectangle Area: {rectangle.area()}\")"
   ],
   "metadata": {
    "collapsed": false,
    "ExecuteTime": {
     "end_time": "2023-10-16T15:51:43.913781Z",
     "start_time": "2023-10-16T15:51:43.911816Z"
    }
   },
   "id": "e52eb2d84e9077e"
  },
  {
   "cell_type": "markdown",
   "source": [
    "You're probably wondering where we applied the abstraction. The beauty of this example is that the user of these classes can work with shapes without needing to know the internal details of how each shape calculates its area. This demonstrates abstraction by hiding the complexities of each shape's area calculation, allowing the programmer to focus on using the shapes rather than how they work internally."
   ],
   "metadata": {
    "collapsed": false
   },
   "id": "27b7a7481f0a64f5"
  },
  {
   "cell_type": "markdown",
   "source": [
    "### Abstraction plays a crucial role in simplifying, organizing, and improving the maintainability of software systems. It supports the key principles of OOP, such as encapsulation, inheritance, and polymorphism, and helps create more flexible, reusable, and robust code."
   ],
   "metadata": {
    "collapsed": false
   },
   "id": "d06f6c8bfcc716d8"
  },
  {
   "cell_type": "markdown",
   "source": [
    "# Congratulations on getting this far and completing this guide!"
   ],
   "metadata": {
    "collapsed": false
   },
   "id": "2f01bad0a2d5b439"
  },
  {
   "cell_type": "markdown",
   "source": [
    "<h1 style=\"text-align: center;\">Mastering the Art of OOP in Python: A Journey of Possibilities</h1>\n",
    "\n",
    "&nbsp;&nbsp;&nbsp;&nbsp;\n",
    "&nbsp;&nbsp;&nbsp;&nbsp;\n",
    "\n",
    "<p style=\"text-align: justify;font-size: 18px;\"> In the world of Python programming, mastering the art of Object-Oriented Programming is like discovering a secret passage to a realm of limitless possibilities. As we've journeyed through this guide, we've unlocked the doors to encapsulation, inheritance, polymorphism, and abstraction—four pillars that have the power to reshape the way we design, build, and maintain software. </p>\n",
    "\n",
    "<p style=\"text-align: justify;font-size: 18px;\">1) With encapsulation, we've learned to safeguard our data and grant it only to those who truly need it, like a treasure protected by a guardian. </p>\n",
    "\n",
    "<p style=\"text-align: justify;font-size: 18px;\">2) Inheritance has allowed us to build upon the wisdom of our predecessors, creating new classes with the knowledge of the old, just like the passing down of wisdom from one generation to the next.</p>\n",
    "\n",
    "<p style=\"text-align: justify;font-size: 18px;\">3) Polymorphism has given us the gift of flexibility, allowing us to write code that dances with grace and elegance, adapting to different situations like a chameleon changing colors. </p>\n",
    "\n",
    "<p style=\"text-align: justify;font-size: 18px;\">4) Abstraction, the master key, has opened the door to simplification, making complexity vanish into the shadows, revealing only the essence of what truly matters. </p>\n",
    "\n",
    "<p style=\"text-align: justify;font-size: 18px;\"> As we conclude our exploration of Object-Oriented Programming in Python, remember that the power of OOP isn't merely in the syntax or the code itself; it's in the way it transforms our thinking. With these four pillars as your foundation, you have the tools to craft solutions that are not just functional but elegant, not just robust but adaptable, and not just code but works of art. </p>\n",
    "\n",
    "<p style=\"text-align: justify;font-size: 18px;\"> So go forth, Pythonista, armed with the wisdom of OOP, and let your creativity flow through your code. Create software that doesn't just solve problems; it tells stories, paints pictures, and leaves an indelible mark on the digital world. The canvas is yours, and the possibilities are boundless. </p>"
   ],
   "metadata": {
    "collapsed": false
   },
   "id": "263340a870ffbc54"
  },
  {
   "cell_type": "markdown",
   "source": [
    "# The ABCs of OOP:\n",
    "\n",
    "1. Class - in Python, a class is a blueprint for creating objects, encapsulating related attributes and methods into one unit.\n",
    "&nbsp;&nbsp;&nbsp;&nbsp;\n",
    "2. Method - in OOP, functions inside of a class are referred to as methods, representing actions that objects of the class can perform.\n",
    "&nbsp;&nbsp;&nbsp;&nbsp;\n",
    "3. Object - an instance of a class.\n",
    "&nbsp;&nbsp;&nbsp;&nbsp;\n",
    "4. Parent Class - In OOP a \"parent class\", also known as a superclass or base class, is a class that is extended or inherited by one or more \"child classes\" or subclasses. The parent class contains attributes and methods that are common to its subclasses.\n",
    "&nbsp;&nbsp;&nbsp;&nbsp;\n",
    "5. Subclass - in OOP, also known as a \"child class\", is a class that inherits methods and attributes from another class, called the superclass or parent class. This means that a subclass can reuse the code from its superclass.\n",
    "&nbsp;&nbsp;&nbsp;&nbsp;\n",
    "6. super() is a built-in function that returns a temporary object of the superclass, which allows you to call its methods. This is especially useful in the context of inheritance, where you might want to call a method of the superclass from within a method of a subclass.\n",
    "&nbsp;&nbsp;&nbsp;&nbsp;\n",
    "7. Abstract class is a class that cannot be instantiated on its own but serves as a blueprint for other classes.\n",
    "&nbsp;&nbsp;&nbsp;&nbsp;\n",
    "8. Abstract methods are methods declared in an abstract class but have no implementation in the abstract class itself."
   ],
   "metadata": {
    "collapsed": false
   },
   "id": "dfd4c213f75c2d42"
  },
  {
   "cell_type": "code",
   "execution_count": null,
   "outputs": [],
   "source": [],
   "metadata": {
    "collapsed": false
   },
   "id": "e0ca76dc6ed4604b"
  }
 ],
 "metadata": {
  "kernelspec": {
   "display_name": "Python 3",
   "language": "python",
   "name": "python3"
  },
  "language_info": {
   "codemirror_mode": {
    "name": "ipython",
    "version": 2
   },
   "file_extension": ".py",
   "mimetype": "text/x-python",
   "name": "python",
   "nbconvert_exporter": "python",
   "pygments_lexer": "ipython2",
   "version": "2.7.6"
  }
 },
 "nbformat": 4,
 "nbformat_minor": 5
}
