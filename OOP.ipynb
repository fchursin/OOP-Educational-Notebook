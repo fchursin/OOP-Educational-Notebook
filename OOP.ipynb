{
 "cells": [
  {
   "cell_type": "markdown",
   "source": [
    "# OOP\n",
    "\n",
    "©Fedor Chursin \n",
    "&nbsp;&nbsp;&nbsp;&nbsp;\n",
    "e-mail - fedorchursinsk@gmail.com\n",
    "&nbsp;&nbsp;&nbsp;&nbsp;\n",
    "GitHub - ur0vn1t31"
   ],
   "metadata": {
    "collapsed": false
   },
   "id": "e8562223c66bd3d1"
  },
  {
   "cell_type": "markdown",
   "source": [
    "Programming paradigms play a pivotal role in guiding how developers think about and structure their code. Two prominent paradigms often juxtaposed are Object-Oriented Programming (OOP) and procedural programming. Among these, OOP stands out as one of the most influential and widely adopted approaches."
   ],
   "metadata": {
    "collapsed": false
   },
   "id": "407a824d69cbd0f8"
  },
  {
   "cell_type": "markdown",
   "source": [
    "## Procedural Programming\n",
    "\n",
    "A programming paradigm derived from the use of code in a step-wise procedure "
   ],
   "metadata": {
    "collapsed": false
   },
   "id": "77dac43e302c2753"
  },
  {
   "cell_type": "markdown",
   "source": [
    "Let's create a simple script to calculate the salary of our employee named Andrew :"
   ],
   "metadata": {
    "collapsed": false
   },
   "id": "7beded178e8b9c2b"
  },
  {
   "cell_type": "code",
   "execution_count": 51,
   "outputs": [
    {
     "name": "stdout",
     "output_type": "stream",
     "text": [
      "Andrew's total salary is: \n",
      "2750\n"
     ]
    }
   ],
   "source": [
    "'''\n",
    "    Let's start with defining three variables about Andrew's:\n",
    "        - base salary in $\n",
    "        - his overtime in hours\n",
    "        - his rate per hour in $\n",
    "'''\n",
    "\n",
    "andrew_base_salary = 2500\n",
    "andrew_overtime = 10\n",
    "andrew_rate = 25\n",
    "\n",
    "'''\n",
    "    Now let's create a function to calculate the wage of an Employee based on their:\n",
    "    \n",
    "    - base salary\n",
    "    - overtime \n",
    "    - rate per hour\n",
    "'''\n",
    "\n",
    "def get_salary(base_salary, overtime, rate):\n",
    "    \n",
    "    total_salary = base_salary + (overtime * rate)\n",
    "    \n",
    "    return total_salary\n",
    "\n",
    "\n",
    "'''\n",
    "    Now we can finally calculate Andrew's wage using our function\n",
    "'''\n",
    "\n",
    "andrew_total_salary = get_salary(andrew_base_salary, andrew_overtime, andrew_rate)\n",
    "\n",
    "print(\"Andrew's total salary is: \")\n",
    "print(andrew_total_salary)"
   ],
   "metadata": {
    "collapsed": false,
    "ExecuteTime": {
     "end_time": "2023-10-16T16:02:36.424699Z",
     "start_time": "2023-10-16T16:02:36.421065Z"
    }
   },
   "id": "a36132fd8d0f1403"
  },
  {
   "cell_type": "markdown",
   "source": [
    "But what if we have two more employees at our company, and we want to calculate their salaries too? Then we will have to define new variables for all of them and then calculate their salaries. Let's do this :"
   ],
   "metadata": {
    "collapsed": false
   },
   "id": "3d5aec60752bb758"
  },
  {
   "cell_type": "code",
   "execution_count": 52,
   "outputs": [
    {
     "name": "stdout",
     "output_type": "stream",
     "text": [
      "Tim's total salary is: \n",
      "3125.0\n",
      "Arina's total salary is: \n",
      "2824\n"
     ]
    }
   ],
   "source": [
    "'''\n",
    "    Let's define the same set of variables for an additional two employees:\n",
    "'''\n",
    "\n",
    "tim_base_salary = 2750\n",
    "tim_overtime = 12.5\n",
    "tim_rate = 30\n",
    "\n",
    "arina_base_salary = 2600 \n",
    "arina_overtime = 8\n",
    "arina_rate = 28\n",
    "\n",
    "'''\n",
    "    Now we will calculate their salaries using the function we defined before and the variables we defined just now:\n",
    "'''\n",
    "\n",
    "tim_total_salary = get_salary(tim_base_salary, tim_overtime, tim_rate)\n",
    "\n",
    "arina_total_salary = get_salary(arina_base_salary, arina_overtime, arina_rate)\n",
    "\n",
    "print(\"Tim's total salary is: \")\n",
    "print(tim_total_salary)\n",
    "print(\"Arina's total salary is: \")\n",
    "print(arina_total_salary)"
   ],
   "metadata": {
    "collapsed": false,
    "ExecuteTime": {
     "end_time": "2023-10-16T16:02:36.968053Z",
     "start_time": "2023-10-16T16:02:36.958204Z"
    }
   },
   "id": "a4b9dfd5bb0cc0b6"
  },
  {
   "cell_type": "markdown",
   "source": [
    "You are probably saying that it was not that hard and you're absolutely right, but imagine if you had 98 more employees; then this relatively easy task would be way more time-consuming. That's where OOP comes into play!"
   ],
   "metadata": {
    "collapsed": false
   },
   "id": "b7cdd61756e73300"
  },
  {
   "cell_type": "markdown",
   "source": [
    "# OOP - object-oriented programming"
   ],
   "metadata": {
    "collapsed": false
   },
   "id": "dbbb327ca6ff4186"
  },
  {
   "cell_type": "markdown",
   "source": [
    "Let's see how this task would be solved using the OOP approach. Don't be scared if you don't understand something from this chunk of code a breakdown with an explanation will follow!"
   ],
   "metadata": {
    "collapsed": false
   },
   "id": "bd5bec279ddb0e32"
  },
  {
   "cell_type": "code",
   "execution_count": 53,
   "outputs": [
    {
     "name": "stdout",
     "output_type": "stream",
     "text": [
      "Andrew's total salary is: 2750\n",
      "Tim's total salary is: 3125.0\n",
      "Arina's total salary is: 2824\n"
     ]
    }
   ],
   "source": [
    "'''\n",
    "    Let's define a class named Employee that will store all information about an employee and that will have several methods:\n",
    "    \n",
    "    !!! Class - in Python, a class is a blueprint for creating objects, encapsulating related attributes and methods into one unit.\n",
    "    !!! Method - in OOP, functions inside of a class are referred to as methods, representing actions that objects of the class can perform.\n",
    "'''\n",
    "\n",
    "# Here we define a class named Employee\n",
    "class Employee:\n",
    "    \n",
    "    \n",
    "    # This method is called on class initialization and helps you with gathering all needed data for your class\n",
    "    def __init__(self, name, base_salary, overtime, rate):\n",
    "        \n",
    "        self.name = name\n",
    "        self.base_salary = base_salary\n",
    "        self.overtime = overtime\n",
    "        self.rate = rate\n",
    "         \n",
    "         \n",
    "    # This method is called on a request and returns the salary of an employee\n",
    "    def get_salary(self):\n",
    "        \n",
    "        return self.base_salary + ( self.overtime * self.rate )\n",
    "    \n",
    "\n",
    "'''\n",
    "    Let's instantiate several objects (in this case employees) & get their salaries:\n",
    "    \n",
    "    !!! Object - an instance of a class\n",
    "'''\n",
    "\n",
    "andrew = Employee('Andrew', 2500, 10, 25)\n",
    "print(\"Andrew's total salary is: \" + str(andrew.get_salary()))\n",
    "\n",
    "tim = Employee('Tim', 2750, 12.5, 30)\n",
    "print(\"Tim's total salary is: \" + str(tim.get_salary()))\n",
    "\n",
    "margot = Employee('Arina', 2600, 8, 28)\n",
    "print(\"Arina's total salary is: \" + str(margot.get_salary()))\n"
   ],
   "metadata": {
    "collapsed": false,
    "ExecuteTime": {
     "end_time": "2023-10-16T16:02:38.261635Z",
     "start_time": "2023-10-16T16:02:38.252422Z"
    }
   },
   "id": "dbbc818c88266b88"
  },
  {
   "cell_type": "markdown",
   "source": [
    "This solution looks way cleaner and is implemented in such a way that creating 98 more employees wouldn't create a mess in your code and would be way less consuming!"
   ],
   "metadata": {
    "collapsed": false
   },
   "id": "239b18fc6fa4d54d"
  },
  {
   "cell_type": "markdown",
   "source": [
    "### The OOP example we looked at is just the tip of the iceberg. It doesn't cover all the OOP concepts but dive in deeper, and you'll discover a lot more layers—and trust me, they're fascinating! \n",
    "\n",
    "### Let's get started, so you get a better understanding of what's going on!\n",
    "\n",
    "&nbsp;&nbsp;&nbsp;&nbsp;\n",
    "\n",
    "What were the motivations behind the creation of OOP?\n",
    "&nbsp;&nbsp;&nbsp;&nbsp;\n",
    "- &nbsp;&nbsp;&nbsp;&nbsp;The creation of OOP was driven by a desire to manage increasing software complexity, create more reusable components, and model the world more closely in software systems.\n",
    "\n",
    "&nbsp;&nbsp;&nbsp;&nbsp;\n",
    "At its core, what is OOP? \n",
    "&nbsp;&nbsp;&nbsp;&nbsp;\n",
    "- &nbsp;&nbsp;&nbsp;&nbsp; Object-Oriented Programming (OOP) is a programming paradigm based on the concept of \"objects\", which can contain both data (often referred to as attributes or properties) and code (referred to as methods).\n",
    "\n",
    "&nbsp;&nbsp;&nbsp;&nbsp;\n",
    "OOP stands on four foundational pillars:\n",
    "&nbsp;&nbsp;&nbsp;&nbsp;\n",
    "- &nbsp;&nbsp;&nbsp;&nbsp; Encapsulation - bundling data and methods into a singular unit.\n",
    "&nbsp;&nbsp;&nbsp;&nbsp;\n",
    "- &nbsp;&nbsp;&nbsp;&nbsp; Abstraction - hiding complexity and showcasing only the essentials.\n",
    "&nbsp;&nbsp;&nbsp;&nbsp;\n",
    "- &nbsp;&nbsp;&nbsp;&nbsp; Inheritance - enabling a new class to inherit properties and behaviors from an existing one.\n",
    "&nbsp;&nbsp;&nbsp;&nbsp;\n",
    "- &nbsp;&nbsp;&nbsp;&nbsp; Polymorphism - allowing varied implementations under a unified interface.\n"
   ],
   "metadata": {
    "collapsed": false
   },
   "id": "8f8ceec7e1f119e9"
  },
  {
   "cell_type": "markdown",
   "source": [
    "## Now that we have a foundational understanding of what OOP is, let's delve deeper into its four core pillars:"
   ],
   "metadata": {
    "collapsed": false
   },
   "id": "9c3f39de1a12fa0e"
  },
  {
   "cell_type": "markdown",
   "source": [
    "## 1. Encapsulation\n",
    "\n",
    "As mentioned above encapsulation is one of the fundamental concepts of OOP. It bundles data (attributes) and related operations (methods) within a single class, ensuring cohesion. It also restricts external access to some of this data using mechanisms like private and protected specifiers, maintaining object integrity and consistency. Let's get our hands down on it:"
   ],
   "metadata": {
    "collapsed": false
   },
   "id": "3993c8e9da7dc42b"
  },
  {
   "cell_type": "code",
   "execution_count": 54,
   "outputs": [
    {
     "name": "stdout",
     "output_type": "stream",
     "text": [
      "This is your current balance 100\n",
      "Your current balance after the withdrawal is 2\n",
      "Your current balance after the deposit is 134\n",
      "This is your current balance 100\n"
     ]
    }
   ],
   "source": [
    "'''\n",
    "    Let's create a system for ATM machines using procedural programming concepts with such features as:\n",
    "        \n",
    "        - getting current balance\n",
    "        - depositing cash\n",
    "        - withdrawing cash\n",
    "'''\n",
    "\n",
    "balance = 100\n",
    "\n",
    "# functions to perform operations with a balance\n",
    "def deposit(cash_amount):\n",
    "    \n",
    "    return balance + cash_amount\n",
    "\n",
    "def withdraw(cash_amount):\n",
    "    \n",
    "    return balance - cash_amount\n",
    "\n",
    "def get_balance(balance):\n",
    "    \n",
    "    return balance\n",
    "\n",
    "'''\n",
    "    Let's now check if our system works right by running a simple test. We will get our balance, withdraw some money, deposit some money, and check our balance once again\n",
    "'''\n",
    "\n",
    "print('This is your current balance ' + str(get_balance(balance)))\n",
    "\n",
    "print('Your current balance after the withdrawal is ' + str(withdraw(98)))\n",
    "\n",
    "print('Your current balance after the deposit is ' + str(deposit(34)))\n",
    "\n",
    "print('This is your current balance ' + str(get_balance(balance)))"
   ],
   "metadata": {
    "collapsed": false,
    "ExecuteTime": {
     "end_time": "2023-10-16T16:02:40.350879Z",
     "start_time": "2023-10-16T16:02:40.347561Z"
    }
   },
   "id": "fb3d7497b0fa7a91"
  },
  {
   "cell_type": "code",
   "execution_count": 55,
   "outputs": [
    {
     "name": "stdout",
     "output_type": "stream",
     "text": [
      "This is your current balance 100\n",
      "This is your current balance after  unauthorized operation -50\n"
     ]
    }
   ],
   "source": [
    "'''\n",
    "    Hooray our system appears to work perfectly fine, but as we used procedural programming concepts we will have several issues such as:\n",
    "        \n",
    "        - everyone will be able to see our balance just by printing the variable\n",
    "        - everyone will be able to change the value of our balance just by changing the value of the balance\n",
    "        \n",
    "'''\n",
    "\n",
    "print('This is your current balance ' + str(balance))\n",
    "\n",
    "balance -= 150\n",
    "\n",
    "print('This is your current balance after  unauthorized operation ' + str(balance))"
   ],
   "metadata": {
    "collapsed": false,
    "ExecuteTime": {
     "end_time": "2023-10-16T16:02:40.817803Z",
     "start_time": "2023-10-16T16:02:40.814481Z"
    }
   },
   "id": "7c7b1ea8e98f439e"
  },
  {
   "cell_type": "code",
   "execution_count": 56,
   "outputs": [],
   "source": [
    "'''\n",
    "    Our system doesn't look so secure anymore. Let's recreate this system with the help of the first pillar of OOP - encapsulation!\n",
    "    \n",
    "    We will start with defining a class with 2 properties and 4 methods.\n",
    "    \n",
    "    Properties:\n",
    "    \n",
    "    1st property - Owner's name. We will make this property public, so everyone can know whose bank account it is\n",
    "    2nd property - Balance. This property should be private, so only authorised changes can be made and it can be displayed after a proper request as it's confidential information\n",
    "    \n",
    "    Methods:\n",
    "    \n",
    "    1st - 3rd methods - Deposit, withdraw, balance. These methods are going to be public, so the balance can be changed and displayed at the request of the user.\n",
    "    4th method - Restriction. This method should be private, so no one can restrict an account without a proper reason. So, this method will be called by the atm only if the owner is trying to withdraw more money than they actually have.\n",
    "'''\n",
    "\n",
    "# We will start with defining a class named BankAccount\n",
    "\n",
    "class BankAccount:\n",
    "    \n",
    "    # __init__ method called when class is initialised\n",
    "    def __init__(self, owner, balance):\n",
    "        \n",
    "        self.owner = owner\n",
    "        self.__balance = balance # double underscore \"__\" makes variable \"private\", which means that it can be changed and accessed only in side of the declared class\n",
    "    \n",
    "    # public method to implement deposit operation\n",
    "    def deposit(self, amount):\n",
    "        \n",
    "        self.__balance += amount\n",
    "        \n",
    "        return f\"Deposited ${amount}. New balance: ${self.__balance}\"\n",
    "  \n",
    "    # public method to implement withdraw operation\n",
    "    def withdraw(self, amount):\n",
    "        if amount < self.__balance:\n",
    "            \n",
    "            self.__balance -= amount\n",
    "        \n",
    "            return f\"Withdrew ${amount}. New balance: ${self.__balance}\"\n",
    "        \n",
    "        else:\n",
    "            \n",
    "            return self.__restrict_account()\n",
    "\n",
    "    # public method to implement get_balance operation\n",
    "    def get_balance(self):\n",
    "        \n",
    "        return f\"Balance: ${self.__balance}\"\n",
    "    \n",
    "    # private method to restrict account\n",
    "    # __ prefix can also be applied to methods to make them private too\n",
    "    def __restrict_account(self):\n",
    "        return \"Your account has been restricted!\"\n",
    "\n",
    "'''\n",
    "    While creating this class we implemented two main concepts of encapsulation:\n",
    "    \n",
    "        1. We bound all the data (attributes) and all the operations (methods) related to our bank account into one single class ensuring cohesion.\n",
    "        2. We restricted external access to some of the data (attributes) and some of the operations (methods) to protect integrity and consistency.\n",
    "''';\n"
   ],
   "metadata": {
    "collapsed": false,
    "ExecuteTime": {
     "end_time": "2023-10-16T16:02:41.278915Z",
     "start_time": "2023-10-16T16:02:41.274339Z"
    }
   },
   "id": "88bfa9ca39988fbc"
  },
  {
   "cell_type": "code",
   "execution_count": 57,
   "outputs": [
    {
     "name": "stdout",
     "output_type": "stream",
     "text": [
      "Balance: $15000\n",
      "Withdrew $4000. New balance: $11000\n",
      "Deposited $2300. New balance: $13300\n",
      "Balance: $13300\n"
     ]
    }
   ],
   "source": [
    "'''\n",
    "    Let's now run the same tests as we did with the previous script. We will get our balance, withdraw some money, deposit some money, and check our balance once again\n",
    "'''\n",
    "\n",
    "# Initialization of the BankAccount class object with required parameters\n",
    "tims_bank_acc = BankAccount('Tims',15000)\n",
    "\n",
    "\n",
    "# Showcase of the methods from the BankAccount class\n",
    "print(tims_bank_acc.get_balance())\n",
    "\n",
    "print(tims_bank_acc.withdraw(4000))\n",
    "\n",
    "print(tims_bank_acc.deposit(2300))\n",
    "\n",
    "print(tims_bank_acc.get_balance())"
   ],
   "metadata": {
    "collapsed": false,
    "ExecuteTime": {
     "end_time": "2023-10-16T16:02:41.764114Z",
     "start_time": "2023-10-16T16:02:41.746640Z"
    }
   },
   "id": "1bf27bbef9ad9d7c"
  },
  {
   "cell_type": "code",
   "execution_count": 58,
   "outputs": [
    {
     "ename": "AttributeError",
     "evalue": "'BankAccount' object has no attribute '__balance'",
     "output_type": "error",
     "traceback": [
      "\u001B[0;31m---------------------------------------------------------------------------\u001B[0m",
      "\u001B[0;31mAttributeError\u001B[0m                            Traceback (most recent call last)",
      "Cell \u001B[0;32mIn[58], line 6\u001B[0m\n\u001B[1;32m      1\u001B[0m \u001B[38;5;124;03m'''\u001B[39;00m\n\u001B[1;32m      2\u001B[0m \u001B[38;5;124;03m    Let's try changing the value of our balance without using proper functions\u001B[39;00m\n\u001B[1;32m      3\u001B[0m \u001B[38;5;124;03m'''\u001B[39;00m\n\u001B[0;32m----> 6\u001B[0m \u001B[43mtims_bank_acc\u001B[49m\u001B[38;5;241;43m.\u001B[39;49m\u001B[43m__balance\u001B[49m \u001B[38;5;241m+\u001B[39m\u001B[38;5;241m=\u001B[39m \u001B[38;5;241m1000\u001B[39m\n\u001B[1;32m      8\u001B[0m \u001B[38;5;124;03m'''\u001B[39;00m\n\u001B[1;32m      9\u001B[0m \u001B[38;5;124;03m    Our attempt will result in an error because the balance property is private and can't be accessed outside of the class. The same will happen if we try printing our balance by using the built-in Python function print(). The only way to work with the balance is through public methods defined in the BankAccount class\u001B[39;00m\n\u001B[1;32m     10\u001B[0m \u001B[38;5;124;03m'''\u001B[39;00m;\n",
      "\u001B[0;31mAttributeError\u001B[0m: 'BankAccount' object has no attribute '__balance'"
     ]
    }
   ],
   "source": [
    "'''\n",
    "    Let's try changing the value of our balance without using proper functions\n",
    "'''\n",
    "\n",
    "\n",
    "tims_bank_acc.__balance += 1000\n",
    "\n",
    "'''\n",
    "    Our attempt will result in an error because the balance property is private and can't be accessed outside of the class. The same will happen if we try printing our balance by using the built-in Python function print(). The only way to work with the balance is through public methods defined in the BankAccount class\n",
    "''';\n",
    "\n"
   ],
   "metadata": {
    "collapsed": false,
    "ExecuteTime": {
     "end_time": "2023-10-16T16:02:42.225511Z",
     "start_time": "2023-10-16T16:02:42.219214Z"
    }
   },
   "id": "ca78c16cf0786441"
  },
  {
   "cell_type": "code",
   "execution_count": 59,
   "outputs": [
    {
     "ename": "AttributeError",
     "evalue": "'BankAccount' object has no attribute '__restrict_account'",
     "output_type": "error",
     "traceback": [
      "\u001B[0;31m---------------------------------------------------------------------------\u001B[0m",
      "\u001B[0;31mAttributeError\u001B[0m                            Traceback (most recent call last)",
      "Cell \u001B[0;32mIn[59], line 5\u001B[0m\n\u001B[1;32m      1\u001B[0m \u001B[38;5;124;03m'''\u001B[39;00m\n\u001B[1;32m      2\u001B[0m \u001B[38;5;124;03m    The same will happen if we try calling the private '__restrict_account' method\u001B[39;00m\n\u001B[1;32m      3\u001B[0m \u001B[38;5;124;03m'''\u001B[39;00m\n\u001B[0;32m----> 5\u001B[0m \u001B[43mtims_bank_acc\u001B[49m\u001B[38;5;241;43m.\u001B[39;49m\u001B[43m__restrict_account\u001B[49m()\n",
      "\u001B[0;31mAttributeError\u001B[0m: 'BankAccount' object has no attribute '__restrict_account'"
     ]
    }
   ],
   "source": [
    "'''\n",
    "    The same will happen if we try calling the private '__restrict_account' method\n",
    "'''\n",
    "\n",
    "tims_bank_acc.__restrict_account()"
   ],
   "metadata": {
    "collapsed": false,
    "ExecuteTime": {
     "end_time": "2023-10-16T16:02:42.741755Z",
     "start_time": "2023-10-16T16:02:42.737868Z"
    }
   },
   "id": "81d5e7f5ada86333"
  },
  {
   "cell_type": "markdown",
   "source": [],
   "metadata": {
    "collapsed": false
   },
   "id": "751ea6f19a2fc0ae"
  },
  {
   "cell_type": "markdown",
   "source": [
    "### After bundling and protecting all the necessary functions and variables in a class for our ATM system, we did more than just learn about encapsulation in OOP; we also enhanced the security and reusability of our code. \n",
    "\n",
    "### This nicely leads us to the first major perk of OOP: code that's not just safer, but ready to be used again in new and exciting ways!\n",
    "    "
   ],
   "metadata": {
    "collapsed": false
   },
   "id": "46627ac830a3198b"
  },
  {
   "cell_type": "markdown",
   "source": [
    "\n",
    "## 2. Inheritance\n",
    "\n",
    "Inheritance, another cornerstone of OOP, enables a class to use methods and attributes of another class, promoting code reusability and the establishment of relationships between classes. It allows for the creation of a new class, based on an existing class, bringing forward its behaviors and attributes, while having the flexibility to introduce new ones or modify the existing traits. Let's delve deeper into this concept:"
   ],
   "metadata": {
    "collapsed": false
   },
   "id": "91f7211b5816937e"
  },
  {
   "cell_type": "code",
   "execution_count": 60,
   "outputs": [
    {
     "name": "stdout",
     "output_type": "stream",
     "text": [
      "Name of this animal is Bolt\n"
     ]
    }
   ],
   "source": [
    "'''\n",
    "    Let's create a parent class Animal with one attribute ( name ) and one method ( get_animal_name )\n",
    "    \n",
    "    !!! Parent Class - In OOP a \"parent class\", also known as a superclass or base class, is a class that is extended or inherited by one or more \"child classes\" or subclasses. The parent class contains attributes and methods that are common to its subclasses.\n",
    "'''\n",
    "\n",
    "class Animal:\n",
    "    \n",
    "    def __init__(self,name):\n",
    "        \n",
    "        self.name = name\n",
    "        \n",
    "    def get_animal_name(self):\n",
    "        \n",
    "        print(\"Name of this animal is \" + self.name)\n",
    "    \n",
    "\n",
    "'''\n",
    "    Now we will create an empty subclass Dog that contains only initialisation method, which is called on its definition\n",
    "    \n",
    "    !!! Subclass - in OOP, also known as a \"child class\", is a class that inherits methods and attributes from another class, called the superclass or parent class. This means that a subclass can reuse the code from its superclass.\n",
    "'''\n",
    "\n",
    "class Dog(Animal):\n",
    "    \n",
    "    def __init__(self,name):\n",
    "        \n",
    "        super().__init__(name) \n",
    "        \n",
    "        '''\n",
    "        \n",
    "        !!!  super() is a built-in function that returns a temporary object of the superclass, which allows you to call its methods. This is especially useful in the context of inheritance, where you might want to call a method of the superclass from within a method of a subclass.\n",
    "        \n",
    "        '''\n",
    "\n",
    "# Here we initialise a Dog class instance called Bolt\n",
    "bolt = Dog('Bolt')\n",
    "\n",
    "'''\n",
    "    Let's try calling a method that we didn't define in the Dog class and using an attribute we didn't define:\n",
    "'''\n",
    "bolt.get_animal_name()\n",
    "        \n",
    "    "
   ],
   "metadata": {
    "collapsed": false,
    "ExecuteTime": {
     "end_time": "2023-10-16T16:02:44.732098Z",
     "start_time": "2023-10-16T16:02:44.722575Z"
    }
   },
   "id": "fc5ebc260b761744"
  },
  {
   "cell_type": "markdown",
   "source": [
    "As you can see we still got the desired output. This happened because subclass / child class - dog inherited all the methods and attributes from its  superclass / parent class - Animal\n",
    "\n",
    "**Subclass will inherit all the methods and attributes every time it's created**"
   ],
   "metadata": {
    "collapsed": false
   },
   "id": "de713e3b91943f8d"
  },
  {
   "cell_type": "code",
   "execution_count": 61,
   "outputs": [
    {
     "name": "stdout",
     "output_type": "stream",
     "text": [
      "Bark\n",
      "Meow\n"
     ]
    }
   ],
   "source": [
    "'''\n",
    "    Let's improve our code by adding room for customisation.\n",
    "    \n",
    "    We will create a parent class Animal once again, but now it will have 2 methods instead of 1\n",
    "'''\n",
    "\n",
    "\n",
    "class Animal:\n",
    "    \n",
    "    def __init__(self,name):\n",
    "        \n",
    "        self.name = name\n",
    "        \n",
    "    def animal_name(self):\n",
    "        \n",
    "        return \"Name of this animal is \" + self.name\n",
    "    \n",
    "    def voice(self):\n",
    "        \n",
    "        pass # The pass statement is used as a placeholder for future code\n",
    "    \n",
    "    '''\n",
    "        ↑ ↑ ↑  here we define an empty method. When it's called pass statement will be executed, but nothing will happen!\n",
    "        \n",
    "        We make it empty on purpose because every animal makes different sounds, so we can't define it for all animals at once, but every animal can vocalise, so this method should be available to every animal\n",
    "    '''\n",
    "\n",
    "\n",
    "'''\n",
    "    Now we will define two subclasses: \n",
    "        \n",
    "        - Dog\n",
    "        - Cat\n",
    "        \n",
    "    We will customise the voice method in a way that Dog is barking and Cat is meowing.\n",
    "'''\n",
    "    \n",
    "class Dog(Animal):\n",
    "    \n",
    "    def __init__(self,name):\n",
    "        \n",
    "        super().__init__(name)\n",
    "    \n",
    "    # Here we customise voice method so Dog is barking\n",
    "    def voice(self):\n",
    "        print('Bark')\n",
    "        \n",
    "class Cat(Animal):\n",
    "    \n",
    "    def __init__(self,name):\n",
    "        \n",
    "        super().__init__(name)\n",
    "        \n",
    "    # Here we customise voice method so Cat is meowing\n",
    "    def voice(self):\n",
    "        print('Meow')\n",
    "\n",
    "\n",
    "bolt = Dog('Bolt')\n",
    "garfield = Cat('Garfield')\n",
    "\n",
    "'''\n",
    "    Let's check what happens if we call the voice method now:\n",
    "'''\n",
    "\n",
    "bolt.voice()\n",
    "garfield.voice()\n"
   ],
   "metadata": {
    "collapsed": false,
    "ExecuteTime": {
     "end_time": "2023-10-16T16:02:45.717666Z",
     "start_time": "2023-10-16T16:02:45.713459Z"
    }
   },
   "id": "55a2af8575447c72"
  },
  {
   "cell_type": "markdown",
   "source": [
    "Even though the subclasses inherited empty methods from the parent class, we were able to customize and fill in those methods within each subclass to achieve the results we wanted.\n",
    "\n",
    "**It's possible due to one of the inheritance concepts, where subclasses inherit methods from the parent class but can customize or override them to achieve specific functionality**"
   ],
   "metadata": {
    "collapsed": false
   },
   "id": "e98585a87ad02e31"
  },
  {
   "cell_type": "code",
   "execution_count": 62,
   "outputs": [
    {
     "name": "stdout",
     "output_type": "stream",
     "text": [
      "Animal is making sounds: \n",
      "Bark\n"
     ]
    }
   ],
   "source": [
    "'''\n",
    "    But what if you want to call a method from the parent class and also customise it?\n",
    "    \n",
    "    It's also possible through inheritance and a built-in function - super() \n",
    "'''\n",
    "\n",
    "class Animal:\n",
    "    \n",
    "    def __init__(self,name):\n",
    "    \n",
    "        self.name = name\n",
    "        \n",
    "    def animal_name(self):\n",
    "        \n",
    "        return \"Name of this animal is \" + self.name\n",
    "    \n",
    "    def voice(self):\n",
    "        \n",
    "        print('Animal is making sounds: ')\n",
    "        \n",
    "    '''\n",
    "        ↑ ↑ ↑  here we defined the animal class once again. But now the voice method is not empty. Every time it's called it will announce that the animal is making sounds!\n",
    "    '''\n",
    "        \n",
    "class Dog(Animal):\n",
    "    \n",
    "    def __init__(self, name):\n",
    "        \n",
    "        super().__init__(name)\n",
    "    \n",
    "    '''\n",
    "        Let's check how to call the inherited method and customise it at the same time!\n",
    "    '''\n",
    "    \n",
    "    def voice(self):\n",
    "        \n",
    "        super().voice()\n",
    "        \n",
    "        print('Bark')\n",
    "    \n",
    "    '''\n",
    "        ↑ ↑ ↑  here with the help of super() function, we were able to access and call the predefined method and customise it after\n",
    "    '''\n",
    "    \n",
    "\n",
    "'''\n",
    "    Let's check what happens if we call this method now:\n",
    "'''\n",
    "    \n",
    "dog = Dog('bolt')\n",
    "\n",
    "dog.voice()"
   ],
   "metadata": {
    "collapsed": false,
    "ExecuteTime": {
     "end_time": "2023-10-16T16:02:46.697025Z",
     "start_time": "2023-10-16T16:02:46.692172Z"
    }
   },
   "id": "66c4a0ad2bea67a"
  },
  {
   "cell_type": "markdown",
   "source": [
    "With the use of the super function, we were able to call a method from the parent class and customise it in the subclass. \n",
    "\n",
    "**super() function can be used in Python to extend or modify the behavior of inherited methods**"
   ],
   "metadata": {
    "collapsed": false
   },
   "id": "4c535c0f12ec690b"
  },
  {
   "cell_type": "markdown",
   "source": [
    "### These examples showed you how inheritance works under the hood. Now you have an understanding of how to utilise one more pillar of OOP - inheritance!\n",
    "\n",
    "### Inheritance brings a lot of benefits such as code reusability, modularity, and efficiency. It also enables Polymorphism - the third pillar of OOP let's talk about it now!"
   ],
   "metadata": {
    "collapsed": false
   },
   "id": "2fea562d98df4647"
  },
  {
   "cell_type": "markdown",
   "source": [
    "## 3. Polymorphism\n",
    "\n",
    "Polymorphism, a core element of OOP, allows different classes or objects to be treated interchangeably as if they belong to a shared category. In other words, polymorphism is the ability of objects to take on different forms or behave in different ways depending on the context in which they are used. In object-oriented programming (OOP), polymorphism is achieved through the use of inheritance, interfaces, and method overriding. Let's dive deeper into this topic:"
   ],
   "metadata": {
    "collapsed": false
   },
   "id": "c86ba23ba7b5eb8d"
  },
  {
   "cell_type": "code",
   "execution_count": 63,
   "outputs": [
    {
     "name": "stdout",
     "output_type": "stream",
     "text": [
      "Max speed of this car is 330\n",
      "Max speed of this plane is 988\n",
      "Max speed of this bullet train is 320\n"
     ]
    }
   ],
   "source": [
    "'''\n",
    "    Let's create a parent class Vehicle with a placeholder method 'max_speed':\n",
    "'''\n",
    "\n",
    "# Define a parent class 'Vehicle'\n",
    "class Vehicle:\n",
    "    \n",
    "    # A placeholder method for 'max_speed' to be defined in the subclasses.\n",
    "    def max_speed(self):\n",
    "        pass\n",
    "    \n",
    "'''\n",
    "    Now we will define three different subclasses / types of vehicles:\n",
    "    \n",
    "        - car\n",
    "        - plane\n",
    "        - bullet train\n",
    "'''\n",
    "\n",
    "# Create a subclass 'Car' which inherits from 'Vehicle'.\n",
    "class Car(Vehicle):\n",
    "    \n",
    "    def __init__(self, top_speed):\n",
    "        self.top_speed = top_speed\n",
    "\n",
    "    # Implement the 'max_speed' method specific to 'Car'.\n",
    "    def max_speed(self):\n",
    "        return \"Max speed of this car is \" + str(self.top_speed)\n",
    "\n",
    "# Create a subclass 'Plane' which also inherits from 'Vehicle'.\n",
    "class Plane(Vehicle):\n",
    "    \n",
    "    def __init__(self, top_speed):\n",
    "        self.top_speed = top_speed\n",
    "\n",
    "    # Implement the 'max_speed' method specific to 'Plane'.\n",
    "    def max_speed(self):\n",
    "        return \"Max speed of this plane is \" + str(self.top_speed)\n",
    "\n",
    "# Create another subclass 'BulletTrain' inheriting from 'Vehicle'.\n",
    "class BulletTrain(Vehicle):\n",
    "    \n",
    "    def __init__(self, top_speed):\n",
    "        self.top_speed = top_speed\n",
    "\n",
    "    # Implement the 'max_speed' method specific to 'BulletTrain'.\n",
    "    def max_speed(self):\n",
    "        return \"Max speed of this bullet train is \" + str(self.top_speed)\n",
    "\n",
    "# Create instances of different vehicles with their respective maximum speeds.\n",
    "porsche911 = Car(330)\n",
    "boeing747 = Plane(988)\n",
    "shinkansen = BulletTrain(320)\n",
    "\n",
    "# Create a list of various vehicles for demonstration.\n",
    "vehicles = [porsche911, boeing747, shinkansen]\n",
    "\n",
    "'''\n",
    "    Now let's see what happens if we iterate through the list we just created and call the 'max_speed' method on each element:\n",
    "'''\n",
    "\n",
    "# Demonstrate polymorphism by calling 'max_speed' on each object.\n",
    "for vehicle in vehicles:\n",
    "    print(vehicle.max_speed())\n"
   ],
   "metadata": {
    "collapsed": false,
    "ExecuteTime": {
     "end_time": "2023-10-16T16:02:48.618147Z",
     "start_time": "2023-10-16T16:02:48.608294Z"
    }
   },
   "id": "26c7961264565ef7"
  },
  {
   "cell_type": "markdown",
   "source": [
    "As you can see the appropriate implementation of the method for each specific vehicle type is used. This demonstrates Polymorphism in action. This example refers to the ability of different objects or classes to respond to the same method in a way that is appropriate for each of them. "
   ],
   "metadata": {
    "collapsed": false
   },
   "id": "cff4aaf84061b164"
  },
  {
   "cell_type": "markdown",
   "source": [
    "### With this example you got a better understanding of one of the most important concepts behind the Polymorphism\n",
    "\n",
    "### Polymorphism is a powerful concept in object-oriented programming that enhances code reusability, flexibility, and maintainability, making it a key element in creating scalable and extensible software systems. Let's dive into the last but not  least concept of OOP - Abstraction"
   ],
   "metadata": {
    "collapsed": false
   },
   "id": "26c37ac854605ba9"
  },
  {
   "cell_type": "markdown",
   "source": [
    "## 4. Abstraction\n",
    "Abstraction in object-oriented programming simplifies complex systems by representing real-world objects as classes with only the most important features and actions. Through the process of abstraction, a programmer hides all but the relevant data about an object in order to reduce complexity and increase efficiency. Let's check it out:"
   ],
   "metadata": {
    "collapsed": false
   },
   "id": "27d34da68cadc68b"
  },
  {
   "cell_type": "code",
   "execution_count": 64,
   "outputs": [
    {
     "name": "stdout",
     "output_type": "stream",
     "text": [
      "Circle Area: 78.53750000000001\n",
      "Rectangle Area: 24\n"
     ]
    }
   ],
   "source": [
    "'''\n",
    "    Let's import several modules that are important for the abstraction from the abc library:\n",
    "    \n",
    "    ABC -  The ABC class from the abc module allows us to define abstract classes. By inheriting from ABC, you indicate that a class is meant to be an abstract class.\n",
    "    \n",
    "    abstractmethod - The @abstractmethod decorator is used to declare methods as abstract.\n",
    "    \n",
    "    \n",
    "    !!! Abstract class is a class that cannot be instantiated on its own but serves as a blueprint for other classes.\n",
    "    \n",
    "    !!! Abstract methods are methods declared in an abstract class but have no implementation in the abstract class itself.\n",
    "    \n",
    "'''\n",
    "\n",
    "from abc import ABC, abstractmethod\n",
    "\n",
    "'''\n",
    "    Now we will define an abstract class and several subclasses\n",
    "'''\n",
    "\n",
    "# Define an abstract class representing a general shape\n",
    "class Shape(ABC):\n",
    "    @abstractmethod # declare method as abstract\n",
    "    def area(self):\n",
    "        pass\n",
    "\n",
    "# Create concrete subclasses that implement the abstract method\n",
    "class Circle(Shape):\n",
    "    def __init__(self, radius):\n",
    "        self.radius = radius\n",
    "\n",
    "    def area(self):\n",
    "        return 3.1415 * self.radius * self.radius\n",
    "\n",
    "class Rectangle(Shape):\n",
    "    def __init__(self, width, height):\n",
    "        self.width = width\n",
    "        self.height = height\n",
    "\n",
    "    def area(self):\n",
    "        return self.width * self.height\n",
    "\n",
    "'''\n",
    "    Now we will initialise several objects and demonstrate abstraction\n",
    "'''\n",
    "\n",
    "\n",
    "circle = Circle(5)\n",
    "rectangle = Rectangle(4, 6)\n",
    "\n",
    "print(f\"Circle Area: {circle.area()}\")\n",
    "print(f\"Rectangle Area: {rectangle.area()}\")"
   ],
   "metadata": {
    "collapsed": false,
    "ExecuteTime": {
     "end_time": "2023-10-16T16:02:50.771493Z",
     "start_time": "2023-10-16T16:02:50.762576Z"
    }
   },
   "id": "e52eb2d84e9077e"
  },
  {
   "cell_type": "markdown",
   "source": [
    "You're probably wondering where we applied the abstraction. The beauty of this example is that the user of these classes can work with shapes without needing to know the internal details of how each shape calculates its area. This demonstrates abstraction by hiding the complexities of each shape's area calculation, allowing the programmer to focus on using the shapes rather than how they work internally."
   ],
   "metadata": {
    "collapsed": false
   },
   "id": "27b7a7481f0a64f5"
  },
  {
   "cell_type": "markdown",
   "source": [
    "### Abstraction plays a crucial role in simplifying, organizing, and improving the maintainability of software systems. It supports the key principles of OOP, such as encapsulation, inheritance, and polymorphism, and helps create more flexible, reusable, and robust code."
   ],
   "metadata": {
    "collapsed": false
   },
   "id": "d06f6c8bfcc716d8"
  },
  {
   "cell_type": "markdown",
   "source": [
    "# Congratulations on getting this far and completing this guide!"
   ],
   "metadata": {
    "collapsed": false
   },
   "id": "2f01bad0a2d5b439"
  },
  {
   "cell_type": "markdown",
   "source": [
    "<h1 style=\"text-align: center;\">Mastering the Art of OOP in Python: A Journey of Possibilities</h1>\n",
    "\n",
    "&nbsp;&nbsp;&nbsp;&nbsp;\n",
    "&nbsp;&nbsp;&nbsp;&nbsp;\n",
    "\n",
    "<p style=\"text-align: justify;font-size: 18px;\"> In the world of Python programming, mastering the art of Object-Oriented Programming is like discovering a secret passage to a realm of limitless possibilities. As we've journeyed through this guide, we've unlocked the doors to encapsulation, inheritance, polymorphism, and abstraction—four pillars that have the power to reshape the way we design, build, and maintain software. </p>\n",
    "\n",
    "<p style=\"text-align: justify;font-size: 18px;\">1) With encapsulation, we've learned to safeguard our data and grant it only to those who truly need it, like a treasure protected by a guardian. </p>\n",
    "\n",
    "<p style=\"text-align: justify;font-size: 18px;\">2) Inheritance has allowed us to build upon the wisdom of our predecessors, creating new classes with the knowledge of the old, just like the passing down of wisdom from one generation to the next.</p>\n",
    "\n",
    "<p style=\"text-align: justify;font-size: 18px;\">3) Polymorphism has given us the gift of flexibility, allowing us to write code that dances with grace and elegance, adapting to different situations like a chameleon changing colors. </p>\n",
    "\n",
    "<p style=\"text-align: justify;font-size: 18px;\">4) Abstraction, the master key, has opened the door to simplification, making complexity vanish into the shadows, revealing only the essence of what truly matters. </p>\n",
    "\n",
    "<p style=\"text-align: justify;font-size: 18px;\"> As we conclude our exploration of Object-Oriented Programming in Python, remember that the power of OOP isn't merely in the syntax or the code itself; it's in the way it transforms our thinking. With these four pillars as your foundation, you have the tools to craft solutions that are not just functional but elegant, not just robust but adaptable, and not just code but works of art. </p>\n",
    "\n",
    "<p style=\"text-align: justify;font-size: 18px;\"> So go forth, Pythonista, armed with the wisdom of OOP, and let your creativity flow through your code. Create software that doesn't just solve problems; it tells stories, paints pictures, and leaves an indelible mark on the digital world. The canvas is yours, and the possibilities are boundless. </p>"
   ],
   "metadata": {
    "collapsed": false
   },
   "id": "263340a870ffbc54"
  },
  {
   "cell_type": "markdown",
   "source": [
    "# The ABCs of OOP:\n",
    "\n",
    "1. Class - in Python, a class is a blueprint for creating objects, encapsulating related attributes and methods into one unit.\n",
    "\n",
    "2. Method - in OOP, functions inside of a class are referred to as methods, representing actions that objects of the class can perform.\n",
    "\n",
    "3. Object - an instance of a class.\n",
    "\n",
    "4. Parent Class - In OOP a \"parent class\", also known as a superclass or base class, is a class that is extended or inherited by one or more \"child classes\" or subclasses. The parent class contains attributes and methods that are common to its subclasses.\n",
    "\n",
    "5. Subclass - in OOP, also known as a \"child class\", is a class that inherits methods and attributes from another class, called the superclass or parent class. This means that a subclass can reuse the code from its superclass.\n",
    "\n",
    "6. super() is a built-in function that returns a temporary object of the superclass, which allows you to call its methods. This is especially useful in the context of inheritance, where you might want to call a method of the superclass from within a method of a subclass.\n",
    "\n",
    "7. Abstract class is a class that cannot be instantiated on its own but serves as a blueprint for other classes.\n",
    "\n",
    "8. Abstract methods are methods declared in an abstract class but have no implementation in the abstract class itself."
   ],
   "metadata": {
    "collapsed": false
   },
   "id": "dfd4c213f75c2d42"
  },
  {
   "cell_type": "code",
   "execution_count": null,
   "outputs": [],
   "source": [],
   "metadata": {
    "collapsed": false
   },
   "id": "e0ca76dc6ed4604b"
  }
 ],
 "metadata": {
  "kernelspec": {
   "display_name": "Python 3",
   "language": "python",
   "name": "python3"
  },
  "language_info": {
   "codemirror_mode": {
    "name": "ipython",
    "version": 2
   },
   "file_extension": ".py",
   "mimetype": "text/x-python",
   "name": "python",
   "nbconvert_exporter": "python",
   "pygments_lexer": "ipython2",
   "version": "2.7.6"
  }
 },
 "nbformat": 4,
 "nbformat_minor": 5
}
