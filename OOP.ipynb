{
 "cells": [
  {
   "cell_type": "markdown",
   "source": [
    "# OOP vs Procedural Programming\n",
    "\n",
    "Programming paradigms play a pivotal role in guiding how developers think about and structure their code. Two prominent paradigms often juxtaposed are Object-Oriented Programming (OOP) and procedural programming. Among these, OOP stands out as one of the most influential and widely-adopted approaches."
   ],
   "metadata": {
    "collapsed": false
   },
   "id": "407a824d69cbd0f8"
  },
  {
   "cell_type": "markdown",
   "source": [
    "## Procedural Programming\n",
    "\n",
    "A programming paradigm derived from the use of code in a step-wise procedure "
   ],
   "metadata": {
    "collapsed": false
   },
   "id": "77dac43e302c2753"
  },
  {
   "cell_type": "markdown",
   "source": [
    "Let's create a simple script to calculate the salary of our employee named Andrew :"
   ],
   "metadata": {
    "collapsed": false
   },
   "id": "7beded178e8b9c2b"
  },
  {
   "cell_type": "code",
   "execution_count": 1,
   "outputs": [
    {
     "name": "stdout",
     "output_type": "stream",
     "text": [
      "Andrew's total salary is: \n",
      "2750\n"
     ]
    }
   ],
   "source": [
    "'''\n",
    "    Let's start with defining three variables about Andrew's:\n",
    "        - base salary in $\n",
    "        - his overtime in hours\n",
    "        - his rate per hour in $\n",
    "'''\n",
    "\n",
    "andrew_base_salary = 2500\n",
    "andrew_overtime = 10\n",
    "andrew_rate = 25\n",
    "\n",
    "'''\n",
    "    Now let's create a function to calculate the wage of an Employee based on their:\n",
    "    \n",
    "    - base salary\n",
    "    - overtime \n",
    "    - rate per hour\n",
    "'''\n",
    "\n",
    "def get_salary(base_salary, overtime, rate):\n",
    "    \n",
    "    total_salary = base_salary + (overtime * rate)\n",
    "    \n",
    "    return total_salary\n",
    "\n",
    "\n",
    "'''\n",
    "    Now we can finally calculate Andrew's wage using our function\n",
    "'''\n",
    "\n",
    "andrew_total_salary = get_salary(andrew_base_salary, andrew_overtime, andrew_rate)\n",
    "\n",
    "print(\"Andrew's total salary is: \")\n",
    "print(andrew_total_salary)"
   ],
   "metadata": {
    "collapsed": false,
    "ExecuteTime": {
     "end_time": "2023-10-02T18:34:47.343657Z",
     "start_time": "2023-10-02T18:34:47.308421Z"
    }
   },
   "id": "a36132fd8d0f1403"
  },
  {
   "cell_type": "markdown",
   "source": [
    "But what if we have two more employees at our company, and we want to calculate their salaries too. Then we will have to define new variables for all off them and then calculate their salaries. Let's do this :"
   ],
   "metadata": {
    "collapsed": false
   },
   "id": "3d5aec60752bb758"
  },
  {
   "cell_type": "code",
   "execution_count": 2,
   "outputs": [
    {
     "name": "stdout",
     "output_type": "stream",
     "text": [
      "Tim's total salary is: \n",
      "3125.0\n",
      "Margot's total salary is: \n",
      "2824\n"
     ]
    }
   ],
   "source": [
    "'''\n",
    "    Let's define the same set of variable for additional two employees:\n",
    "'''\n",
    "\n",
    "tim_base_salary = 2750\n",
    "tim_overtime = 12.5\n",
    "tim_rate = 30\n",
    "\n",
    "margot_base_salary = 2600 \n",
    "margot_overtime = 8\n",
    "margot_rate = 28\n",
    "\n",
    "'''\n",
    "    Now we will calculate their salaries using the function we defined before and variables we defined just now:\n",
    "'''\n",
    "\n",
    "tim_total_salary = get_salary(tim_base_salary, tim_overtime, tim_rate)\n",
    "\n",
    "margot_total_salary = get_salary(margot_base_salary, margot_overtime, margot_rate)\n",
    "\n",
    "print(\"Tim's total salary is: \")\n",
    "print(tim_total_salary)\n",
    "print(\"Margot's total salary is: \")\n",
    "print(margot_total_salary)"
   ],
   "metadata": {
    "collapsed": false,
    "ExecuteTime": {
     "end_time": "2023-10-02T18:34:47.343940Z",
     "start_time": "2023-10-02T18:34:47.318241Z"
    }
   },
   "id": "a4b9dfd5bb0cc0b6"
  },
  {
   "cell_type": "markdown",
   "source": [
    "You are probably saying that it was not that hard and you're absolutely right, but imagine if you had 98 more employees; then this relatively easy task would be way more time-consuming. That's where OOP comes into play!"
   ],
   "metadata": {
    "collapsed": false
   },
   "id": "b7cdd61756e73300"
  },
  {
   "cell_type": "markdown",
   "source": [
    "# OOP - object-oriented programming"
   ],
   "metadata": {
    "collapsed": false
   },
   "id": "dbbb327ca6ff4186"
  },
  {
   "cell_type": "markdown",
   "source": [
    "Let's see how this task would be solved using OOP approach. Don't be scared if you don't understand something from this chunk of code a breakdown with explanation will follow!"
   ],
   "metadata": {
    "collapsed": false
   },
   "id": "bd5bec279ddb0e32"
  },
  {
   "cell_type": "code",
   "execution_count": 3,
   "outputs": [
    {
     "name": "stdout",
     "output_type": "stream",
     "text": [
      "Andrew's total salary is: 2750\n",
      "Tim's total salary is: 3125.0\n",
      "Margot's total salary is: 2824\n"
     ]
    }
   ],
   "source": [
    "'''\n",
    "    Let's define a class named Employee that will store all information about an employee and that will have several methods:\n",
    "    \n",
    "    !!! Class - in Python, a class is a blueprint for creating objects, encapsulating related attributes and methods into one unit.\n",
    "    !!! Method - in OOP, functions inside of a class are referred to as methods, representing actions that objects of the class can perform.\n",
    "'''\n",
    "\n",
    "# Here we define a class named Employee\n",
    "class Employee:\n",
    "    \n",
    "    \n",
    "    # This method is called on class initialization and helps you with gathering all needed data for your class\n",
    "    def __init__(self, name, base_salary, overtime, rate):\n",
    "        \n",
    "        self.name = name\n",
    "        self.base_salary = base_salary\n",
    "        self.overtime = overtime\n",
    "        self.rate = rate\n",
    "         \n",
    "         \n",
    "    # This method is called on a request and returns a salary of an employee\n",
    "    def get_salary(self):\n",
    "        \n",
    "        return self.base_salary + ( self.overtime * self.rate )\n",
    "    \n",
    "\n",
    "'''\n",
    "    Let's instantiate several objects (in this case employees) & get their salaries:\n",
    "    \n",
    "    !!! Object - an instance of a class\n",
    "'''\n",
    "\n",
    "andrew = Employee('Andrew', 2500, 10, 25)\n",
    "print(\"Andrew's total salary is: \" + str(andrew.get_salary()))\n",
    "\n",
    "tim = Employee('Tim', 2750, 12.5, 30)\n",
    "print(\"Tim's total salary is: \" + str(tim.get_salary()))\n",
    "\n",
    "margot = Employee('Margot', 2600, 8, 28)\n",
    "print(\"Margot's total salary is: \" + str(margot.get_salary()))\n"
   ],
   "metadata": {
    "collapsed": false,
    "ExecuteTime": {
     "end_time": "2023-10-02T18:34:47.344459Z",
     "start_time": "2023-10-02T18:34:47.322536Z"
    }
   },
   "id": "dbbc818c88266b88"
  },
  {
   "cell_type": "markdown",
   "source": [
    "This solution looks way cleaner and implemented in such a way that creating 98 more employees wouldn't create a mess in your code and would be way less-time consuming!"
   ],
   "metadata": {
    "collapsed": false
   },
   "id": "239b18fc6fa4d54d"
  },
  {
   "cell_type": "markdown",
   "source": [
    "### The OOP example we looked at is just the tip of the iceberg. It doesn't cover all the OOP concepts, but dive in deeper, and you'll discover a lot more layers—and trust me, they're fascinating! \n",
    "\n",
    "### Let's get started, so you get a better understanding of what's going on!\n",
    "\n",
    "&nbsp;&nbsp;&nbsp;&nbsp;\n",
    "\n",
    "What were the motivations behind the creation of OOP?\n",
    "&nbsp;&nbsp;&nbsp;&nbsp;\n",
    "- &nbsp;&nbsp;&nbsp;&nbsp;The creation of OOP was driven by a desire to manage increasing software complexity, to create more reusable components, and to model real-world more closely in software systems.\n",
    "\n",
    "&nbsp;&nbsp;&nbsp;&nbsp;\n",
    "At its core, what is OOP? \n",
    "&nbsp;&nbsp;&nbsp;&nbsp;\n",
    "- &nbsp;&nbsp;&nbsp;&nbsp; Object-Oriented Programming (OOP) is a programming paradigm based on the concept of \"objects\", which can contain both data (often referred to as attributes or properties) and code (referred to as methods).\n",
    "\n",
    "&nbsp;&nbsp;&nbsp;&nbsp;\n",
    "OOP stands on four foundational pillars:\n",
    "&nbsp;&nbsp;&nbsp;&nbsp;\n",
    "- &nbsp;&nbsp;&nbsp;&nbsp; Encapsulation - bundling data and methods into a singular unit.\n",
    "&nbsp;&nbsp;&nbsp;&nbsp;\n",
    "- &nbsp;&nbsp;&nbsp;&nbsp; Abstraction - hiding complexity and showcasing only the essentials.\n",
    "&nbsp;&nbsp;&nbsp;&nbsp;\n",
    "- &nbsp;&nbsp;&nbsp;&nbsp; Inheritance - enabling a new class to inherit properties and behaviors from an existing one.\n",
    "&nbsp;&nbsp;&nbsp;&nbsp;\n",
    "- &nbsp;&nbsp;&nbsp;&nbsp; Polymorphism - allowing varied implementations under a unified interface.\n"
   ],
   "metadata": {
    "collapsed": false
   },
   "id": "8f8ceec7e1f119e9"
  },
  {
   "cell_type": "markdown",
   "source": [
    "## Now that we have a foundational understanding of OOP, let's delve deeper into its four core pillars:"
   ],
   "metadata": {
    "collapsed": false
   },
   "id": "9c3f39de1a12fa0e"
  },
  {
   "cell_type": "markdown",
   "source": [
    "## 1. Encapsulation\n",
    "\n",
    "As mentioned above encapsulation is one of the fundamental concepts of OOP. It bundles data (attributes) and related operations (methods) within a single class, ensuring cohesion. It also restricts external access to some of this data using mechanisms like private and protected specifiers, maintaining object integrity and consistency. Let's get our hands down on it:"
   ],
   "metadata": {
    "collapsed": false
   },
   "id": "3993c8e9da7dc42b"
  },
  {
   "cell_type": "code",
   "execution_count": 4,
   "outputs": [
    {
     "name": "stdout",
     "output_type": "stream",
     "text": [
      "This is your current balance 100\n",
      "Your current balance after the withdrawal is 2\n",
      "Your current balance after the deposit is 134\n",
      "This is your current balance 100\n"
     ]
    }
   ],
   "source": [
    "'''\n",
    "    Let's create a system for ATM machines using procedural programming concepts with such features as:\n",
    "        \n",
    "        - getting current balance\n",
    "        - depositing cash\n",
    "        - withdrawing cash\n",
    "'''\n",
    "\n",
    "balance = 100\n",
    "\n",
    "# functions to perform operations with a balance\n",
    "def deposit(cash_amount):\n",
    "    \n",
    "    return balance + cash_amount\n",
    "\n",
    "def withdraw(cash_amount):\n",
    "    \n",
    "    return balance - cash_amount\n",
    "\n",
    "def get_balance(balance):\n",
    "    \n",
    "    return balance\n",
    "\n",
    "'''\n",
    "    Let's now check if our system works right by running a simple test. We will get our balance, withdraw some money, deposit some money, and check our balance once again\n",
    "'''\n",
    "\n",
    "print('This is your current balance ' + str(get_balance(balance)))\n",
    "\n",
    "print('Your current balance after the withdrawal is ' + str(withdraw(98)))\n",
    "\n",
    "print('Your current balance after the deposit is ' + str(deposit(34)))\n",
    "\n",
    "print('This is your current balance ' + str(get_balance(balance)))"
   ],
   "metadata": {
    "collapsed": false,
    "ExecuteTime": {
     "end_time": "2023-10-02T18:34:48.319839Z",
     "start_time": "2023-10-02T18:34:48.318051Z"
    }
   },
   "id": "fb3d7497b0fa7a91"
  },
  {
   "cell_type": "code",
   "execution_count": 5,
   "outputs": [
    {
     "name": "stdout",
     "output_type": "stream",
     "text": [
      "This is your current balance 100\n",
      "This is your current balance after  unauthorized operation -50\n"
     ]
    }
   ],
   "source": [
    "'''\n",
    "    Hooray our system appears to work perfectly fine, but as we used procedural programming concepts we will have several issues such as:\n",
    "        \n",
    "        - everyone will be able to see our balance just by printing the variable\n",
    "        - everyone will be able to change the value of our balance just by changing the value of the balance\n",
    "        \n",
    "'''\n",
    "\n",
    "print('This is your current balance ' + str(balance))\n",
    "\n",
    "balance -= 150\n",
    "\n",
    "print('This is your current balance after  unauthorized operation ' + str(balance))"
   ],
   "metadata": {
    "collapsed": false,
    "ExecuteTime": {
     "end_time": "2023-10-02T18:34:48.407328Z",
     "start_time": "2023-10-02T18:34:48.404364Z"
    }
   },
   "id": "7c7b1ea8e98f439e"
  },
  {
   "cell_type": "code",
   "execution_count": 6,
   "outputs": [],
   "source": [
    "'''\n",
    "    Our system doesn't look so secure anymore. Let's recreate this system with the help of the first pillar of OOP - encapsulation!\n",
    "    \n",
    "    We will start with defining a class with 2 properties and 4 methods.\n",
    "    \n",
    "    Properties:\n",
    "    \n",
    "    1st property - Owner's name. We will make this property public, so everyone can know whose bank account it is\n",
    "    2st property - Balance. This property should be private, so only authorised changes can be made and it can be displayed after a proper request as it's confidential information\n",
    "    \n",
    "    Methods:\n",
    "    \n",
    "    1st - 3rd methods - Deposit, withdraw, balance. These methods are going to be public, so balance can be changed and displayed on the request of the user.\n",
    "    4th method - Restriction. These method should be private, so no one can restrict an account without a proper reason. So, this method will be called by the atm only if owner is trying to withdraw more money than they actually have.\n",
    "'''\n",
    "\n",
    "# We will start with defining a class named BankAccount\n",
    "\n",
    "class BankAccount:\n",
    "    \n",
    "    # __init__ method called when class is initialised\n",
    "    def __init__(self, owner, balance):\n",
    "        \n",
    "        self.owner = owner\n",
    "        self.__balance = balance ## __ prefix makes variable private, which means that it can be changed and accessed only in side of the declared class\n",
    "    \n",
    "    # public method to implement deposit operation\n",
    "    def deposit(self, amount):\n",
    "        \n",
    "        self.__balance += amount\n",
    "        \n",
    "        return f\"Deposited ${amount}. New balance: ${self.__balance}\"\n",
    "  \n",
    "    # public method to implement withdraw operation\n",
    "    def withdraw(self, amount):\n",
    "        if amount < self.__balance:\n",
    "            \n",
    "            self.__balance -= amount\n",
    "        \n",
    "            return f\"Withdrew ${amount}. New balance: ${self.__balance}\"\n",
    "        \n",
    "        else:\n",
    "            \n",
    "            return self.__restrict_account()\n",
    "\n",
    "    # public method to implement get_balance operation\n",
    "    def get_balance(self):\n",
    "        \n",
    "        return f\"Balance: ${self.__balance}\"\n",
    "    \n",
    "    # private method to restrict account\n",
    "    # __ prefix can also be applied to methods to make them private too\n",
    "    def __restrict_account(self):\n",
    "        return \"Your account has been restricted!\"\n",
    "\n",
    "'''\n",
    "    While creating this class we implemented two main concepts of encapsulation:\n",
    "    \n",
    "        1. We bounded all the data (attributes) and all the operations (methods) related to our bank account into one single class ensuring cohesion.\n",
    "        2. We restricted external access to some of the data (attributes) and some of the operations (methods) to protect the integrity and consistency .\n",
    "''';\n"
   ],
   "metadata": {
    "collapsed": false,
    "ExecuteTime": {
     "end_time": "2023-10-02T18:34:48.496533Z",
     "start_time": "2023-10-02T18:34:48.491044Z"
    }
   },
   "id": "88bfa9ca39988fbc"
  },
  {
   "cell_type": "code",
   "execution_count": 7,
   "outputs": [
    {
     "name": "stdout",
     "output_type": "stream",
     "text": [
      "Balance: $15000\n",
      "Withdrew $4000. New balance: $11000\n",
      "Deposited $2300. New balance: $13300\n",
      "Balance: $13300\n"
     ]
    }
   ],
   "source": [
    "'''\n",
    "    Let's now run the same tests as we did with the previous script. We will get our balance, withdraw some money, deposit some money, and check our balance once again\n",
    "'''\n",
    "\n",
    "# Initialization of the BankAccount class object with required parameters\n",
    "tims_bank_acc = BankAccount('Tims',15000)\n",
    "\n",
    "\n",
    "# Showcase of the methods from the BankAccount class\n",
    "print(tims_bank_acc.get_balance())\n",
    "\n",
    "print(tims_bank_acc.withdraw(4000))\n",
    "\n",
    "print(tims_bank_acc.deposit(2300))\n",
    "\n",
    "print(tims_bank_acc.get_balance())"
   ],
   "metadata": {
    "collapsed": false,
    "ExecuteTime": {
     "end_time": "2023-10-02T18:34:48.576783Z",
     "start_time": "2023-10-02T18:34:48.571309Z"
    }
   },
   "id": "1bf27bbef9ad9d7c"
  },
  {
   "cell_type": "code",
   "execution_count": 8,
   "outputs": [
    {
     "ename": "AttributeError",
     "evalue": "'BankAccount' object has no attribute '__balance'",
     "output_type": "error",
     "traceback": [
      "\u001B[0;31m---------------------------------------------------------------------------\u001B[0m",
      "\u001B[0;31mAttributeError\u001B[0m                            Traceback (most recent call last)",
      "Cell \u001B[0;32mIn[8], line 6\u001B[0m\n\u001B[1;32m      1\u001B[0m \u001B[38;5;124;03m'''\u001B[39;00m\n\u001B[1;32m      2\u001B[0m \u001B[38;5;124;03m    Let's try changing the value of our balance without using proper functions\u001B[39;00m\n\u001B[1;32m      3\u001B[0m \u001B[38;5;124;03m'''\u001B[39;00m\n\u001B[0;32m----> 6\u001B[0m \u001B[43mtims_bank_acc\u001B[49m\u001B[38;5;241;43m.\u001B[39;49m\u001B[43m__balance\u001B[49m \u001B[38;5;241m+\u001B[39m\u001B[38;5;241m=\u001B[39m \u001B[38;5;241m1000\u001B[39m\n\u001B[1;32m      8\u001B[0m \u001B[38;5;124;03m'''\u001B[39;00m\n\u001B[1;32m      9\u001B[0m \u001B[38;5;124;03m    Our attempt will result in an error, because balance property is private and can't be accessed outside of the class. The same will happened if we try printing our balance by using built-in python function print(). The only way to work with the balance is through public methods defined in the BankAccount class\u001B[39;00m\n\u001B[1;32m     10\u001B[0m \u001B[38;5;124;03m'''\u001B[39;00m;\n",
      "\u001B[0;31mAttributeError\u001B[0m: 'BankAccount' object has no attribute '__balance'"
     ]
    }
   ],
   "source": [
    "'''\n",
    "    Let's try changing the value of our balance without using proper functions\n",
    "'''\n",
    "\n",
    "\n",
    "tims_bank_acc.__balance += 1000\n",
    "\n",
    "'''\n",
    "    Our attempt will result in an error, because balance property is private and can't be accessed outside of the class. The same will happened if we try printing our balance by using built-in python function print(). The only way to work with the balance is through public methods defined in the BankAccount class\n",
    "''';\n",
    "\n"
   ],
   "metadata": {
    "collapsed": false,
    "ExecuteTime": {
     "end_time": "2023-10-02T18:34:48.769671Z",
     "start_time": "2023-10-02T18:34:48.654965Z"
    }
   },
   "id": "ca78c16cf0786441"
  },
  {
   "cell_type": "code",
   "execution_count": null,
   "outputs": [],
   "source": [
    "'''\n",
    "    The same will happen if we try calling private '__restrict_account' method\n",
    "'''\n",
    "\n",
    "tims_bank_acc.__restrict_account()"
   ],
   "metadata": {
    "collapsed": false,
    "ExecuteTime": {
     "start_time": "2023-10-02T18:34:48.769570Z"
    }
   },
   "id": "81d5e7f5ada86333"
  },
  {
   "cell_type": "markdown",
   "source": [],
   "metadata": {
    "collapsed": false
   },
   "id": "751ea6f19a2fc0ae"
  },
  {
   "cell_type": "markdown",
   "source": [
    "### After bundling and protecting all the necessary functions and variables in a class for our ATM system, we did more than just learn about encapsulation in OOP; we also enhanced the security and reusability of our code. \n",
    "\n",
    "### This nicely leads us to the first major perk of OOP: code that's not just safer, but ready to be used again in new and exciting ways!\n",
    "    "
   ],
   "metadata": {
    "collapsed": false
   },
   "id": "46627ac830a3198b"
  },
  {
   "cell_type": "markdown",
   "source": [
    "\n",
    "## 2. Inheritance\n",
    "\n",
    "Inheritance, another cornerstone of OOP, enables a class to use methods and attributes of another class, promoting code reusability and the establishment of relationships between classes. It allows for the creation of a new class, based on an existing class, bringing forward its behaviors and attributes, while having the flexibility to introduce new ones or modify the existing traits. Let's delve deeper into this concept:"
   ],
   "metadata": {
    "collapsed": false
   },
   "id": "91f7211b5816937e"
  },
  {
   "cell_type": "code",
   "execution_count": 9,
   "outputs": [
    {
     "name": "stdout",
     "output_type": "stream",
     "text": [
      "Name of this animal is Bolt\n"
     ]
    }
   ],
   "source": [
    "'''\n",
    "    Let's create a parent class Animal with one attribute ( name ) and one method ( get_animal_name )\n",
    "    \n",
    "    !!! Parent Class - In OOP a \"parent class\", also known as a superclass or base class, is a class that is extended or inherited by one or more \"child classes\" or subclasses. The parent class contains attributes and methods that are common to its subclasses.\n",
    "'''\n",
    "\n",
    "class Animal:\n",
    "    \n",
    "    def __init__(self,name):\n",
    "        \n",
    "        self.name = name\n",
    "        \n",
    "    def get_animal_name(self):\n",
    "        \n",
    "        print(\"Name of this animal is \" + self.name)\n",
    "    \n",
    "\n",
    "'''\n",
    "    Now we will create an empty subclass Dog that contains only initialisation method, which is called on its definition\n",
    "    \n",
    "    !!! Subclass - in OOP, also known as a \"child class\", is a class that inherits methods and attributes from another class, called the superclass or parent class. This means that a subclass can reuse the code from its superclass.\n",
    "'''\n",
    "\n",
    "class Dog(Animal):\n",
    "    \n",
    "    def __init__(self,name):\n",
    "        \n",
    "        super().__init__(name) \n",
    "        \n",
    "        '''\n",
    "        \n",
    "        !!!  super() is a built-in function that returns a temporary object of the superclass, which allows you to call its methods. This is especially useful in the context of inheritance, where you might want to call a method of the superclass from within a method of a subclass.\n",
    "        \n",
    "        '''\n",
    "\n",
    "# Here we initialise a Dog class instance called Bolt\n",
    "bolt = Dog('Bolt')\n",
    "\n",
    "bolt.get_animal_name()\n",
    "        \n",
    "    "
   ],
   "metadata": {
    "collapsed": false,
    "ExecuteTime": {
     "end_time": "2023-10-02T18:34:49.069810Z",
     "start_time": "2023-10-02T18:34:49.067694Z"
    }
   },
   "id": "fc5ebc260b761744"
  },
  {
   "cell_type": "code",
   "execution_count": 10,
   "outputs": [
    {
     "name": "stdout",
     "output_type": "stream",
     "text": [
      "Bark\n",
      "Meow\n"
     ]
    }
   ],
   "source": [
    "class Animal:\n",
    "    \n",
    "    def __init__(self,name):\n",
    "        \n",
    "        self.name = name\n",
    "        \n",
    "    def animal_name(self):\n",
    "        \n",
    "        return \"Name of this animal is \" + self.name\n",
    "    \n",
    "    def speak(self):\n",
    "        \n",
    "        pass\n",
    "    \n",
    "class Dog(Animal):\n",
    "    \n",
    "    def __init__(self,name):\n",
    "        \n",
    "        super().__init__(name)\n",
    "    \n",
    "    def speak(self):\n",
    "        print('Bark')\n",
    "        \n",
    "class Cat(Animal):\n",
    "    \n",
    "    def __init__(self,name):\n",
    "        \n",
    "        super().__init__(name)\n",
    "    \n",
    "    def speak(self):\n",
    "        print('Meow')\n",
    "\n",
    "\n",
    "bolt = Dog('Bolt')\n",
    "garfield = Cat('Garfield')\n",
    "\n",
    "bolt.speak()\n",
    "garfield.speak()\n"
   ],
   "metadata": {
    "collapsed": false,
    "ExecuteTime": {
     "end_time": "2023-10-02T18:34:49.157052Z",
     "start_time": "2023-10-02T18:34:49.155182Z"
    }
   },
   "id": "55a2af8575447c72"
  },
  {
   "cell_type": "code",
   "execution_count": 11,
   "outputs": [
    {
     "name": "stdout",
     "output_type": "stream",
     "text": [
      "Bark\n",
      "Animal is speaking\n"
     ]
    }
   ],
   "source": [
    "class Animal:\n",
    "    \n",
    "    def __init__(self,name):\n",
    "    \n",
    "        self.name = name\n",
    "        \n",
    "    def animal_name(self):\n",
    "        \n",
    "        return \"Name of this animal is \" + self.name\n",
    "    \n",
    "    def speak(self):\n",
    "        \n",
    "        print('Animal is speaking')\n",
    "        \n",
    "class Dog(Animal):\n",
    "    \n",
    "    def __init__(self, name):\n",
    "        \n",
    "        super().__init__(name)\n",
    "        \n",
    "    \n",
    "    def speak(self):\n",
    "        \n",
    "        print('Bark')\n",
    "        \n",
    "    def init_speak(self):\n",
    "        \n",
    "        super().speak()\n",
    "    \n",
    "dog = Dog('bolt')\n",
    "\n",
    "dog.speak()\n",
    "dog.init_speak()"
   ],
   "metadata": {
    "collapsed": false,
    "ExecuteTime": {
     "end_time": "2023-10-02T18:34:49.241298Z",
     "start_time": "2023-10-02T18:34:49.237921Z"
    }
   },
   "id": "66c4a0ad2bea67a"
  },
  {
   "cell_type": "code",
   "execution_count": 12,
   "outputs": [
    {
     "name": "stdout",
     "output_type": "stream",
     "text": [
      "Your plane is moving!\n"
     ]
    },
    {
     "data": {
      "text/plain": "\"\\n    As you can see we didn't define move() method in the plane class as well as we didn't define the vehicle_type property there, but we still were able to access it. This is possible because Plane is a subclass of the Vehicle class and it inherits all the properties and the methods. \\n\""
     },
     "execution_count": 12,
     "metadata": {},
     "output_type": "execute_result"
    }
   ],
   "source": [
    "'''\n",
    "    Let's start with a most traditional example of inheritance. We will create a vehicle class and then create a car subclass:\n",
    "    \n",
    "    !!! Subclass - subclass in Python, also known as a child class, is a class that inherits methods and attributes from another class, called the superclass or parent class. This means that a subclass can reuse the code from its superclass.\n",
    "'''\n",
    "\n",
    "# define a super (parent) Vehicle class \n",
    "class Vehicle:\n",
    "    \n",
    "    def __init__(self,vehicle_type):\n",
    "            \n",
    "            self.vehicle_type = vehicle_type\n",
    "    \n",
    "    def start(self):\n",
    "        \n",
    "        return 'Your ' + self.vehicle_type + ' is starting!'\n",
    "    \n",
    "    def move(self):\n",
    "        \n",
    "        return 'Your ' + self.vehicle_type + ' is moving!'\n",
    "    \n",
    "    def stop(self):\n",
    "        \n",
    "        return 'Your ' + self.vehicle_type + ' just stopped!'\n",
    "    \n",
    "# define a subclass (child class) that inherits from super (parent) class - Vehicle\n",
    "class Plane(Vehicle):\n",
    "    \n",
    "    def flight_range(self):\n",
    "        \n",
    "        return 'This plane can fly 6000 km!'\n",
    "    \n",
    "# Initialization of the Plane class object with required parameters\n",
    "airbus_a320 = Plane('plane')\n",
    "\n",
    "'''\n",
    "    Let's try accessing methods and attributes of the super (parent) class by using the sub (child) class using plane class we defined earlier!\n",
    "'''\n",
    "print(airbus_a320.move())\n",
    "airbus_a320.vehicle_type\n",
    "\n",
    "'''\n",
    "    As you can see we didn't define move() method in the plane class as well as we didn't define the vehicle_type property there, but we still were able to access it. This is possible because Plane is a subclass of the Vehicle class and it inherits all the properties and the methods. \n",
    "'''"
   ],
   "metadata": {
    "collapsed": false,
    "ExecuteTime": {
     "end_time": "2023-10-02T18:34:49.336929Z",
     "start_time": "2023-10-02T18:34:49.324Z"
    }
   },
   "id": "32459ded833d5bdb"
  },
  {
   "cell_type": "code",
   "execution_count": 13,
   "outputs": [],
   "source": [
    "'''\n",
    "    But what if we want to change the method from our super class in our sub class. We can easily override it in our subclass. Let's see how it works:\n",
    "'''\n",
    "\n",
    "# We define the Plane class ones again, but this time we define the move method() in it and change it. This process is called method overriding\n",
    "\n",
    "class Plane(Vehicle):\n",
    "    \n",
    "    def flight_range(self):\n",
    "        \n",
    "        return 'This plane can fly 6000 km!'\n",
    "    \n",
    "    # We define move method in the plane class, so now it outputs that plane is flying not just moving  \n",
    "    def move(self):\n",
    "        \n",
    "        return 'Your ' + self.vehicle_type + ' is flying!'"
   ],
   "metadata": {
    "collapsed": false,
    "ExecuteTime": {
     "end_time": "2023-10-02T18:34:49.418632Z",
     "start_time": "2023-10-02T18:34:49.408776Z"
    }
   },
   "id": "3efa7fed657d3a65"
  },
  {
   "cell_type": "code",
   "execution_count": 14,
   "outputs": [
    {
     "name": "stdout",
     "output_type": "stream",
     "text": [
      "Your plane is flying!\n",
      "Your plane is starting!\n",
      "Your flight will start soon!\n"
     ]
    },
    {
     "data": {
      "text/plain": "'plane'"
     },
     "execution_count": 14,
     "metadata": {},
     "output_type": "execute_result"
    }
   ],
   "source": [
    "class Plane(Vehicle):\n",
    "    \n",
    "    def flight_range(self):\n",
    "        \n",
    "        return 'This plane can fly 6000 km!'\n",
    "    \n",
    "    def move(self):\n",
    "        \n",
    "        return 'Your ' + self.vehicle_type + ' is flying!'\n",
    "    \n",
    "    def start(self):\n",
    "        \n",
    "        \n",
    "        return super().start() + '\\n' 'Your flight will start soon!'\n",
    "\n",
    "airbus_a320 = Plane('plane')\n",
    "print(airbus_a320.move())\n",
    "print(airbus_a320.start())\n",
    "airbus_a320.vehicle_type   "
   ],
   "metadata": {
    "collapsed": false,
    "ExecuteTime": {
     "end_time": "2023-10-02T18:34:49.490947Z",
     "start_time": "2023-10-02T18:34:49.487248Z"
    }
   },
   "id": "c85c5f8d6bc52971"
  },
  {
   "cell_type": "code",
   "execution_count": 15,
   "outputs": [
    {
     "data": {
      "text/plain": "'Your vehicle is moving!'"
     },
     "execution_count": 15,
     "metadata": {},
     "output_type": "execute_result"
    }
   ],
   "source": [
    "vehicle = Vehicle('vehicle')\n",
    "\n",
    "vehicle.move()"
   ],
   "metadata": {
    "collapsed": false,
    "ExecuteTime": {
     "end_time": "2023-10-02T18:34:49.578734Z",
     "start_time": "2023-10-02T18:34:49.570266Z"
    }
   },
   "id": "72726616769dd211"
  },
  {
   "cell_type": "code",
   "execution_count": 16,
   "outputs": [
    {
     "ename": "AttributeError",
     "evalue": "'Vehicle' object has no attribute 'flight_range'",
     "output_type": "error",
     "traceback": [
      "\u001B[0;31m---------------------------------------------------------------------------\u001B[0m",
      "\u001B[0;31mAttributeError\u001B[0m                            Traceback (most recent call last)",
      "Cell \u001B[0;32mIn[16], line 1\u001B[0m\n\u001B[0;32m----> 1\u001B[0m \u001B[43mvehicle\u001B[49m\u001B[38;5;241;43m.\u001B[39;49m\u001B[43mflight_range\u001B[49m()\n",
      "\u001B[0;31mAttributeError\u001B[0m: 'Vehicle' object has no attribute 'flight_range'"
     ]
    }
   ],
   "source": [
    "vehicle.flight_range()"
   ],
   "metadata": {
    "collapsed": false,
    "ExecuteTime": {
     "end_time": "2023-10-02T18:34:49.664566Z",
     "start_time": "2023-10-02T18:34:49.662555Z"
    }
   },
   "id": "d0e2d5b7612d76f"
  },
  {
   "cell_type": "markdown",
   "source": [
    "## 3. Polymorhism"
   ],
   "metadata": {
    "collapsed": false
   },
   "id": "c86ba23ba7b5eb8d"
  },
  {
   "cell_type": "code",
   "execution_count": 16,
   "outputs": [],
   "source": [],
   "metadata": {
    "collapsed": false,
    "ExecuteTime": {
     "end_time": "2023-10-02T18:34:49.823327Z",
     "start_time": "2023-10-02T18:34:49.816648Z"
    }
   },
   "id": "26c7961264565ef7"
  },
  {
   "cell_type": "markdown",
   "source": [
    "## 4. Abstraction"
   ],
   "metadata": {
    "collapsed": false
   },
   "id": "27d34da68cadc68b"
  },
  {
   "cell_type": "code",
   "execution_count": null,
   "outputs": [],
   "source": [],
   "metadata": {
    "collapsed": false,
    "ExecuteTime": {
     "end_time": "2023-10-02T18:39:13.870865Z",
     "start_time": "2023-10-02T18:39:13.869429Z"
    }
   },
   "id": "f1515c3de6859190"
  }
 ],
 "metadata": {
  "kernelspec": {
   "display_name": "Python 3",
   "language": "python",
   "name": "python3"
  },
  "language_info": {
   "codemirror_mode": {
    "name": "ipython",
    "version": 2
   },
   "file_extension": ".py",
   "mimetype": "text/x-python",
   "name": "python",
   "nbconvert_exporter": "python",
   "pygments_lexer": "ipython2",
   "version": "2.7.6"
  }
 },
 "nbformat": 4,
 "nbformat_minor": 5
}
